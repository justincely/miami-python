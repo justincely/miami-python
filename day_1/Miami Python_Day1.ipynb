{
 "metadata": {
  "name": ""
 },
 "nbformat": 3,
 "nbformat_minor": 0,
 "worksheets": [
  {
   "cells": [
    {
     "cell_type": "markdown",
     "metadata": {},
     "source": [
      "---\n",
      "\n",
      "#Intro to Python\n",
      "\n",
      "---"
     ]
    },
    {
     "cell_type": "markdown",
     "metadata": {},
     "source": [
      "###Why Python?  \n",
      "1.  Readibility  \n",
      "2.  Built with coder psychology in mind\n",
      "3.  Language interoperability  \n",
      "4.  Object Oriented  \n",
      "5.  It does EVERYTHING  "
     ]
    },
    {
     "cell_type": "markdown",
     "metadata": {},
     "source": [
      "![alt text](http://imgs.xkcd.com/comics/python.png \"Title\")"
     ]
    },
    {
     "cell_type": "markdown",
     "metadata": {},
     "source": [
      "## And simply diving in:  \n",
      "Let's quick look at an example of python showing  \n",
      "\n",
      " *  using libraries  \n",
      " *  using comments  \n",
      " *  variable assignment  \n",
      " *  using functions  \n",
      " *  printing results  \n",
      "  \n",
      "Then we'll go through things more slowly"
     ]
    },
    {
     "cell_type": "markdown",
     "metadata": {},
     "source": [
      "  \n",
      "---\n",
      "  \n",
      "# Variables  \n",
      "  \n",
      "---  \n",
      "  \n",
      "*  No need to declare variable types  \n",
      "*  ANYTHING can be put in a variable  \n",
      "    +  numbers  \n",
      "    +  strings  \n",
      "    +  functions  \n",
      "    +  file-handles\n",
      "    +  etc, etc  \n",
      "\n",
      "Variables are just containers to put stuff in, they don't much care what!"
     ]
    },
    {
     "cell_type": "code",
     "collapsed": false,
     "input": [
      "x = 'good morning'\n",
      "print x"
     ],
     "language": "python",
     "metadata": {},
     "outputs": []
    },
    {
     "cell_type": "code",
     "collapsed": false,
     "input": [
      "x = 5\n",
      "print x"
     ],
     "language": "python",
     "metadata": {},
     "outputs": []
    },
    {
     "cell_type": "code",
     "collapsed": false,
     "input": [
      "import math\n",
      "x = math.cos\n",
      "print x( math.pi )"
     ],
     "language": "python",
     "metadata": {},
     "outputs": []
    },
    {
     "cell_type": "markdown",
     "metadata": {},
     "source": [
      "---\n",
      "\n",
      "# Simple data types/containers in python  \n",
      "  \n",
      "---\n",
      "\n",
      "These are the basic building blocks of any python code.  More types are available,  \n",
      "both in standard python and by using additional libraries, which we will go into later.  \n",
      "\n",
      "For now:  \n",
      "  \n",
      "*  integer  \n",
      "*  float  \n",
      "*  string  \n",
      "*  list  \n"
     ]
    },
    {
     "cell_type": "markdown",
     "metadata": {},
     "source": [
      "### Numbers: ints and floats"
     ]
    },
    {
     "cell_type": "code",
     "collapsed": false,
     "input": [
      "# Integer numbers simply don't have decimal points\n",
      "2"
     ],
     "language": "python",
     "metadata": {},
     "outputs": []
    },
    {
     "cell_type": "code",
     "collapsed": false,
     "input": [
      "# To make an int a float, just add a decimal\n",
      "2.0"
     ],
     "language": "python",
     "metadata": {},
     "outputs": []
    },
    {
     "cell_type": "markdown",
     "metadata": {},
     "source": [
      "## *Exercise:*  \n",
      "\n",
      "Do some basic arithmetic with floats and integers.  \n",
      "\n",
      "*  addition:        +  \n",
      "*  subtraction:     -  \n",
      "*  multiplication:  *  \n",
      "*  division:        /  \n",
      "*  exponentiataion: **\n",
      "*  modulo:          %"
     ]
    },
    {
     "cell_type": "code",
     "collapsed": false,
     "input": [
      "# Do some basic arithmetic on some numbers\n",
      "# mix and match integers and floats and see what happens\n",
      "x = 43.0\n",
      "y = 2\n",
      "print x % y"
     ],
     "language": "python",
     "metadata": {},
     "outputs": []
    },
    {
     "cell_type": "markdown",
     "metadata": {},
     "source": [
      "### Strings"
     ]
    },
    {
     "cell_type": "code",
     "collapsed": false,
     "input": [
      "# To say somthing is a string, just enclose it in quotes\n",
      "'two'"
     ],
     "language": "python",
     "metadata": {},
     "outputs": []
    },
    {
     "cell_type": "code",
     "collapsed": false,
     "input": [
      "# You can index and slice strings using square brackets\n",
      "word = 'hello'\n",
      "print word"
     ],
     "language": "python",
     "metadata": {},
     "outputs": []
    },
    {
     "cell_type": "code",
     "collapsed": false,
     "input": [
      "print word[1]"
     ],
     "language": "python",
     "metadata": {},
     "outputs": []
    },
    {
     "cell_type": "code",
     "collapsed": false,
     "input": [
      "print word[1:4]"
     ],
     "language": "python",
     "metadata": {},
     "outputs": []
    },
    {
     "cell_type": "code",
     "collapsed": false,
     "input": [
      "print word[:3]"
     ],
     "language": "python",
     "metadata": {},
     "outputs": []
    },
    {
     "cell_type": "code",
     "collapsed": false,
     "input": [
      "print word[-2:]"
     ],
     "language": "python",
     "metadata": {},
     "outputs": []
    },
    {
     "cell_type": "markdown",
     "metadata": {},
     "source": [
      "### Lists\n",
      "\n",
      "This is a list, which serves a different purpose."
     ]
    },
    {
     "cell_type": "code",
     "collapsed": false,
     "input": [
      "# building a list is easy!\n",
      "# Just use square brackets: []\n",
      "x = [1, 2, 3]\n",
      "print x\n",
      "\n",
      "y = [32, 'hello world', x]\n",
      "print y"
     ],
     "language": "python",
     "metadata": {},
     "outputs": []
    },
    {
     "cell_type": "code",
     "collapsed": false,
     "input": [
      "# Just like strings, lists can also be indexed and sliced\n",
      "print x[1]\n",
      "print y[1]"
     ],
     "language": "python",
     "metadata": {},
     "outputs": []
    },
    {
     "cell_type": "code",
     "collapsed": false,
     "input": [
      "# Lists can have a hetergeneous mix of values\n",
      "print y[1:]"
     ],
     "language": "python",
     "metadata": {},
     "outputs": []
    },
    {
     "cell_type": "markdown",
     "metadata": {},
     "source": [
      "---\n",
      "\n",
      "# Operations...but not only with numbers?\n",
      "\n",
      "---"
     ]
    },
    {
     "cell_type": "markdown",
     "metadata": {},
     "source": [
      "## *Exercise:*  \n",
      "\n",
      "Make a string containing \"luminiferous ether\" 10 times.\n",
      "\n",
      "Then make a list of that string 100 times."
     ]
    },
    {
     "cell_type": "code",
     "collapsed": false,
     "input": [
      "# This doesn't sound like fun\n",
      "x = 'Victor'\n",
      "print x - 10"
     ],
     "language": "python",
     "metadata": {},
     "outputs": []
    },
    {
     "cell_type": "markdown",
     "metadata": {},
     "source": [
      "### Why is this?  \n",
      "What reasons are there for this kind of behavior?  \n",
      "\n",
      "*  "
     ]
    },
    {
     "cell_type": "code",
     "collapsed": false,
     "input": [
      "# Lets read a text file\n",
      "for line in open('/Users/victorng/miami-python/2012_12_15.txt'):\n",
      "    print line"
     ],
     "language": "python",
     "metadata": {},
     "outputs": []
    },
    {
     "cell_type": "code",
     "collapsed": false,
     "input": [
      "# Now let's split each line up by space characters\n",
      "for line in open('/Users/victorng/miami-python/2012_12_15.txt'):\n",
      "    print line.split(' ')"
     ],
     "language": "python",
     "metadata": {},
     "outputs": []
    },
    {
     "cell_type": "code",
     "collapsed": false,
     "input": [
      "# Python lets you define slices\n",
      "for line in open('/Users/victorng/miami-python/2012_12_15.txt'):\n",
      "    print line.split(' ')[:5]"
     ],
     "language": "python",
     "metadata": {},
     "outputs": []
    },
    {
     "cell_type": "code",
     "collapsed": false,
     "input": [
      "for line in open('/Users/victorng/miami-python/2012_12_15.txt'):\n",
      "    record = {} \n",
      "    line_data = line.split(' ')\n",
      "    record[\"state\"] = line_data[3]\n",
      "    record[\"city\"] = line_data[2]\n",
      "    record['shape'] = line_data[4]\n",
      "    print record"
     ],
     "language": "python",
     "metadata": {},
     "outputs": []
    },
    {
     "cell_type": "code",
     "collapsed": false,
     "input": [
      "shapes = set()\n",
      "shapes.add(5)\n",
      "shapes.add(5)\n",
      "shapes.add(10)\n",
      "shapes.add(3)\n",
      "shapes.add(3)\n",
      "print shapes"
     ],
     "language": "python",
     "metadata": {},
     "outputs": []
    },
    {
     "cell_type": "code",
     "collapsed": false,
     "input": [
      "shapes = set()\n",
      "for line in open('/Users/victorng/miami-python/2012_12_15.txt'):\n",
      "    record = {}\n",
      "    line_data = line.split()\n",
      "\n",
      "    record['date'] = line_data[0]\n",
      "    record['time'] = line_data[1]\n",
      "    record['city'] = line_data[2]\n",
      "    record['state'] = line_data[3]    \n",
      "    record['shape'] = line_data[4]\n",
      "    \n",
      "    shapes.add(record['shape'])\n",
      "\n",
      "print shapes"
     ],
     "language": "python",
     "metadata": {},
     "outputs": []
    },
    {
     "cell_type": "code",
     "collapsed": false,
     "input": [
      "def filereader():\n",
      "    shapes = set()\n",
      "    for line in open('/Users/victorng/miami-python/2012_12_15.txt'):\n",
      "        record = {}\n",
      "        line_data = line.split()\n",
      "        record['date'] = line_data[0]\n",
      "        record['time'] = line_data[1]\n",
      "        record['city'] = line_data[2]\n",
      "        record['state'] = line_data[3]    \n",
      "        record['shape'] = line_data[4]    \n",
      "        shapes.add(record['shape'])\n",
      "    print shapes\n",
      "\n",
      "filereader()"
     ],
     "language": "python",
     "metadata": {},
     "outputs": []
    },
    {
     "cell_type": "code",
     "collapsed": false,
     "input": [
      "def filereader():\n",
      "    shapes = set()\n",
      "    for line in open('/Users/victorng/miami-python/2012_12_15.txt'):\n",
      "        line_data = line.split()\n",
      "        record = make_record(line_data)\n",
      "        shapes.add(record['shape'])\n",
      "    return shapes\n",
      "    \n",
      "def make_record(data):\n",
      "    record = {}\n",
      "    record['date'] = data[0]\n",
      "    record['time'] = data[1]\n",
      "    record['city'] = data[2]\n",
      "    record['state'] = data[3]    \n",
      "    record['shape'] = data[4]\n",
      "    return record\n",
      "    \n",
      "print filereader()"
     ],
     "language": "python",
     "metadata": {},
     "outputs": []
    },
    {
     "cell_type": "code",
     "collapsed": false,
     "input": [
      "def filereader(filename):\n",
      "    shapes = set()\n",
      "    for line in open(filename):\n",
      "        line_data = line.split()\n",
      "        record = make_record(line_data)\n",
      "        shapes.add(record['shape'])\n",
      "    return shapes\n",
      "    \n",
      "def make_record(data):\n",
      "    record = {}\n",
      "    record['date'] = data[0]\n",
      "    record['time'] = data[1]\n",
      "    record['city'] = data[2]\n",
      "    record['state'] = data[3]    \n",
      "    record['shape'] = data[4]\n",
      "    return record\n",
      "    \n",
      "results = filereader('/Users/victorng/miami-python/2012_12_16.txt')\n",
      "print results"
     ],
     "language": "python",
     "metadata": {},
     "outputs": []
    },
    {
     "cell_type": "code",
     "collapsed": false,
     "input": [
      "def filereader(filename, fieldname):\n",
      "    shapes = set()\n",
      "    for line in open(filename):\n",
      "        line_data = line.split()\n",
      "        record = make_record(line_data)\n",
      "        shapes.add(record[fieldname])\n",
      "    return shapes\n",
      "    \n",
      "def make_record(data):\n",
      "    record = {}\n",
      "    record['date'] = data[0]\n",
      "    record['time'] = data[1]\n",
      "    record['city'] = data[2]\n",
      "    record['state'] = data[3]    \n",
      "    record['shape'] = data[4]\n",
      "    return record\n",
      "    \n",
      "results = filereader('/Users/victorng/miami-python/2012_12_16.txt',\n",
      "                     'city')\n",
      "print results"
     ],
     "language": "python",
     "metadata": {},
     "outputs": []
    },
    {
     "cell_type": "code",
     "collapsed": false,
     "input": [
      "def filereader(filename, fieldname):\n",
      "    shapes = set()\n",
      "    for index, line in enumerate(open(filename)):\n",
      "        if index == 0:\n",
      "            continue\n",
      "        line_data = line.split()\n",
      "        record = make_record(line_data)\n",
      "        shapes.add(record[fieldname])\n",
      "    return shapes\n",
      "    \n",
      "def make_record(data):\n",
      "    record = {}\n",
      "    record['date'] = data[0]\n",
      "    record['time'] = data[1]\n",
      "    record['city'] = data[2]\n",
      "    record['state'] = data[3]    \n",
      "    record['shape'] = data[4]\n",
      "    return record\n",
      "    \n",
      "print filereader('/Users/victorng/miami-python/2012_12_16.txt',\n",
      "                     'city')"
     ],
     "language": "python",
     "metadata": {},
     "outputs": []
    },
    {
     "cell_type": "markdown",
     "metadata": {},
     "source": [
      "---\n",
      "\n",
      "# Errors and the Traceback\n",
      "\n",
      "---\n",
      "\n",
      "It may look scary, but it is **EXTREMELY** helpful.\n",
      "\n",
      "When you execute code or run a script, python executes the  \n",
      "instructions line by line until it reaches an error or the end of the code.\n",
      "\n",
      "This means that the interpreter knows exactly where it was when it   \n",
      "encountered something that caused a crash, and will tell you exactly which  \n",
      "line of code caused the problem.\n",
      "\n",
      "It also throws useful error messages, which can be useful for de-bugging."
     ]
    },
    {
     "cell_type": "code",
     "collapsed": false,
     "input": [
      "def filereader(filename, fieldname):\n",
      "    shapes = set()\n",
      "    for line_no, line in enumerate(open(filename)):\n",
      "        if line_no == 0:\n",
      "            continue\n",
      "        line_data = line.split()\n",
      "        record = make_record(line_no, line_data)\n",
      "        \n",
      "        # There is no key named 'fieldname' in the record dictionary\n",
      "        shapes.add(record[\"fieldname\"])  \n",
      "    return shapes\n",
      "    \n",
      "def make_record(line_no, data):\n",
      "    record = {}\n",
      "    record['line_no'] = line_no\n",
      "    record['date'] = data[0]\n",
      "    record['time'] = data[1]\n",
      "    record['city'] = data[2]\n",
      "    record['state'] = data[3]    \n",
      "    record['shape'] = data[4]\n",
      "    return record\n",
      "    \n",
      "print filereader('/Users/victorng/miami-python/2012_12_16.txt',\n",
      "                     'city')"
     ],
     "language": "python",
     "metadata": {},
     "outputs": []
    },
    {
     "cell_type": "code",
     "collapsed": false,
     "input": [
      "def filereader(filename, fieldname):\n",
      "    \"\"\"\n",
      "    This a filereader\n",
      "    Arguments:\n",
      "    filename: Name of the file that we are reading\n",
      "    fieldname: Column name that we are making unique\n",
      "    \n",
      "    Returns a unique set of value specified by fieldname\n",
      "    \"\"\"\n",
      "    shapes = set()\n",
      "    for line_no, line in enumerate(open(filename)):\n",
      "        if line_no == 0:\n",
      "            # Skip the header\n",
      "            continue\n",
      "        line_data = line.split()\n",
      "        record = make_record(line_no, line_data)\n",
      "        shapes.add(record[fieldname])\n",
      "    return shapes\n",
      "    \n",
      "def make_record(line_no, data):\n",
      "    record = {}\n",
      "    record['line_no'] = line_no\n",
      "    record['date'] = data[0]\n",
      "    record['time'] = data[1]\n",
      "    record['city'] = data[2]\n",
      "    record['state'] = data[3]    \n",
      "    record['shape'] = data[4]\n",
      "    return record\n",
      "    \n",
      "print filereader('/Users/victorng/miami-python/2012_12_16.txt',\n",
      "                     'city')"
     ],
     "language": "python",
     "metadata": {},
     "outputs": [
      {
       "output_type": "stream",
       "stream": "stdout",
       "text": [
        "set(['Bakersfield', 'Venice', 'Taft', 'Winter_Park', 'Long_Beach', 'Durant', 'Haleiwa', 'Plattsburgh', 'Portland', 'Ocoee'])\n"
       ]
      }
     ],
     "prompt_number": 23
    },
    {
     "cell_type": "code",
     "collapsed": false,
     "input": [
      "def filereader(filename):\n",
      "    \"\"\"\n",
      "    This a filereader\n",
      "    Arguments:\n",
      "    filename: Name of the file that we are reading\n",
      "    fieldname: Column name that we are making unique\n",
      "    \n",
      "    Returns a unique set of value specified by fieldname\n",
      "    \"\"\"\n",
      "    uniques = set()\n",
      "    for line_no, line in enumerate(open(filename)):\n",
      "        if line_no == 0:\n",
      "            # Skip the header\n",
      "            continue\n",
      "        line_data = line.split()\n",
      "        city, state, shape = parse_record(line_no, line_data)\n",
      "        uniques.add(city)\n",
      "    return uniques\n",
      "    \n",
      "def parse_record(line_no, data):\n",
      "    record = {}\n",
      "    record['line_no'] = line_no\n",
      "    record['date'] = data[0]\n",
      "    record['time'] = data[1]\n",
      "    record['city'] = data[2]\n",
      "    record['state'] = data[3]    \n",
      "    record['shape'] = data[4]\n",
      "    return record['city'], record['state'], record['shape']\n",
      "    \n",
      "print filereader('/Users/victorng/miami-python/2012_12_16.txt')"
     ],
     "language": "python",
     "metadata": {},
     "outputs": [
      {
       "output_type": "stream",
       "stream": "stdout",
       "text": [
        "set(['Bakersfield', 'Venice', 'Taft', 'Winter_Park', 'Long_Beach', 'Durant', 'Haleiwa', 'Plattsburgh', 'Portland', 'Ocoee'])\n"
       ]
      }
     ],
     "prompt_number": 25
    }
   ],
   "metadata": {}
  }
 ]
}